{
 "cells": [
  {
   "cell_type": "code",
   "execution_count": null,
   "metadata": {},
   "outputs": [],
   "source": [
    "import pandas as pd\n",
    "from sklearn.preprocessing import LabelEncoder\n",
    "import re\n",
    "import string\n",
    "from sklearn.feature_extraction.text import TfidfVectorizer\n",
    "from sklearn.ensemble import RandomForestClassifier\n",
    "from sklearn.model_selection import train_test_split\n",
    "from sklearn.metrics import accuracy_score, classification_report, confusion_matrix\n",
    "\n",
    "df= pd.read_csv(\"spam.csv\")\n",
    "\n",
    "df[\"spamORham\"]= df[\"spamORham\"].map({\"spam\":0 , \"ham\":1})\n",
    "\n",
    "df.drop([\"Unnamed: 0\"], axis=1 , inplace=True)\n",
    "\n",
    "def preprocessing(text):\n",
    "    text = text.lower()\n",
    "    text = re.sub(r'\\d+', ' ', text)\n",
    "    text = text.translate(str.maketrans('', '' , string.punctuation))\n",
    "    text = text.strip()\n",
    "    return text\n",
    "\n",
    "df[\"cleanedMessage\"]=df[\"Message\"].apply(preprocessing)\n",
    "\n",
    "df[['Message', 'cleanedMessage']].head()\n",
    "\n",
    "vector= TfidfVectorizer(stop_words=\"english\")\n",
    "\n",
    "x= vector.fit_transform(df[\"cleanedMessage\"])\n",
    "y = df[\"spamORham\"]\n",
    "\n",
    "x_train, x_test , y_train, y_test = train_test_split(x, y , test_size=0.3 , random_state=42)\n",
    "\n",
    "model = RandomForestClassifier()\n",
    "\n",
    "model_train= model.fit(x_train,y_train)\n",
    "\n",
    "model_predict = model.predict(x_test)\n",
    "\n",
    "acc= accuracy_score(y_test, model_predict)\n",
    "\n",
    "print(\"\\nAccurancy:\\n\",acc)\n",
    "\n",
    "print(\"\\nconfusion_matrix:\\n\", confusion_matrix(y_test, model_predict))\n",
    "\n",
    "print(\"\\nClassification report:\\n\", classification_report(y_test, model_predict))"
   ]
  },
  {
   "cell_type": "code",
   "execution_count": null,
   "metadata": {},
   "outputs": [],
   "source": []
  }
 ],
 "metadata": {
  "kernelspec": {
   "display_name": "Python 3",
   "language": "python",
   "name": "python3"
  },
  "language_info": {
   "name": "python",
   "version": "3.11.6"
  }
 },
 "nbformat": 4,
 "nbformat_minor": 2
}
